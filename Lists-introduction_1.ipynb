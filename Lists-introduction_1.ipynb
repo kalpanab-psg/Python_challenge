{
 "cells": [
  {
   "cell_type": "markdown",
   "metadata": {},
   "source": [
    "# Sequence type\n",
    "\n",
    "\n",
    "There are six sequence types: strings, Unicode strings, lists, tuples, buffers, and xrange objects."
   ]
  },
  {
   "cell_type": "markdown",
   "metadata": {},
   "source": [
    "# Lists\n",
    "- collection of hetrogenous  objects \n",
    "- ordered\n",
    "- mutable\n",
    "- Represented using  square brackets []\n"
   ]
  },
  {
   "cell_type": "markdown",
   "metadata": {},
   "source": [
    " ## List creation \n",
    " \n",
    " No size restriction . "
   ]
  },
  {
   "cell_type": "code",
   "execution_count": 1,
   "metadata": {},
   "outputs": [
    {
     "name": "stdout",
     "output_type": "stream",
     "text": [
      "[]\n",
      "[1, 2, 3, 4, 5, 6]\n",
      "['a', 'boy', 'cat']\n",
      "[1.2, 4.5, 6.0]\n",
      "[True, False]\n"
     ]
    }
   ],
   "source": [
    "l1= []   # empty list\n",
    "l2= [ 1,2,3,4,5,6]\n",
    "l3= ['a', 'boy', 'cat']\n",
    "l4 = [ 1.2, 4.5,6.0]\n",
    "l5= [True, False]\n",
    "print(l1)\n",
    "print(l2)\n",
    "print(l3)\n",
    "print(l4)\n",
    "print(l5)\n",
    "\n"
   ]
  },
  {
   "cell_type": "code",
   "execution_count": 2,
   "metadata": {},
   "outputs": [],
   "source": [
    "#list can contain heterogenous collection of objects/items\n",
    "student= ['20MX101', 'AMAN', 9.6, 984834833]"
   ]
  },
  {
   "cell_type": "code",
   "execution_count": 3,
   "metadata": {},
   "outputs": [],
   "source": [
    "# list itslef can be an item\n",
    "l6= ['20MX101',[ 90,78,89,80]]"
   ]
  },
  {
   "cell_type": "code",
   "execution_count": 4,
   "metadata": {},
   "outputs": [
    {
     "name": "stdout",
     "output_type": "stream",
     "text": [
      "<class 'list'>\n",
      "<class 'list'>\n"
     ]
    }
   ],
   "source": [
    "print(type(l1))\n",
    "print(type(l6))"
   ]
  },
  {
   "cell_type": "markdown",
   "metadata": {},
   "source": [
    "# Operations on lists\n",
    "- concatenation\n",
    "  - '+' combines two sequences in a process called concatenation. \n",
    "\n",
    "- repetetion\n",
    "  -  '*' repeats a sequence a (positive integral) number of times. \n",
    "\n",
    "- indexing\n",
    "- slicing\n",
    "- membership \n",
    "  - in operator\n",
    "- iteration \n",
    "  - for loop\n"
   ]
  },
  {
   "cell_type": "code",
   "execution_count": 5,
   "metadata": {},
   "outputs": [
    {
     "data": {
      "text/plain": [
       "[1, 2, 3, 4, 5]"
      ]
     },
     "execution_count": 5,
     "metadata": {},
     "output_type": "execute_result"
    }
   ],
   "source": [
    "[1,2,3]+[4,5]   #concatenation creates a new list"
   ]
  },
  {
   "cell_type": "code",
   "execution_count": 6,
   "metadata": {},
   "outputs": [
    {
     "name": "stdout",
     "output_type": "stream",
     "text": [
      "[1, 2, 3]\n",
      "[1, 2, 3, 4, 5, 6]\n",
      "[1, 2, 3, 8, 9]\n"
     ]
    }
   ],
   "source": [
    "#can store as a new list\n",
    "l1=[1,2,3]\n",
    "l3=l1+ [8,9]\n",
    "l4= l1+l3\n",
    "print(l1)\n",
    "print(l2)\n",
    "print(l3)"
   ]
  },
  {
   "cell_type": "code",
   "execution_count": 7,
   "metadata": {},
   "outputs": [
    {
     "data": {
      "text/plain": [
       "[1, 11, 'kind', 1, 11, 'kind', 1, 11, 'kind']"
      ]
     },
     "execution_count": 7,
     "metadata": {},
     "output_type": "execute_result"
    }
   ],
   "source": [
    " [1,11, 'kind']*3  # repeats times"
   ]
  },
  {
   "cell_type": "code",
   "execution_count": 8,
   "metadata": {},
   "outputs": [
    {
     "data": {
      "text/plain": [
       "[]"
      ]
     },
     "execution_count": 8,
     "metadata": {},
     "output_type": "execute_result"
    }
   ],
   "source": [
    "#empty list repetetion\n",
    "[]*3"
   ]
  },
  {
   "cell_type": "markdown",
   "metadata": {},
   "source": [
    "## indexing and slicing\n",
    "- Similar to string indices, list indices start at 0, and lists can be indexed ,  sliced, concatenated and so on."
   ]
  },
  {
   "cell_type": "code",
   "execution_count": 9,
   "metadata": {},
   "outputs": [
    {
     "name": "stdout",
     "output_type": "stream",
     "text": [
      "10\n"
     ]
    }
   ],
   "source": [
    "# access an item in list using indices\n",
    "lst= [10,20,30,40,50]\n",
    "print(lst[0])"
   ]
  },
  {
   "cell_type": "code",
   "execution_count": 10,
   "metadata": {},
   "outputs": [
    {
     "name": "stdout",
     "output_type": "stream",
     "text": [
      "50\n"
     ]
    }
   ],
   "source": [
    "print(lst[4])"
   ]
  },
  {
   "cell_type": "code",
   "execution_count": 11,
   "metadata": {},
   "outputs": [
    {
     "name": "stdout",
     "output_type": "stream",
     "text": [
      "50\n"
     ]
    }
   ],
   "source": [
    "#negative indexes are acceptable\n",
    "print(lst[-1])"
   ]
  },
  {
   "cell_type": "code",
   "execution_count": 12,
   "metadata": {},
   "outputs": [
    {
     "name": "stdout",
     "output_type": "stream",
     "text": [
      "p\n"
     ]
    }
   ],
   "source": [
    "#indexing strings in list for a character\n",
    "\n",
    "#print first items first character\n",
    "fruits= ['papaya','grapes', 'guava', 'apple']\n",
    "print(fruits[0][0])"
   ]
  },
  {
   "cell_type": "code",
   "execution_count": 13,
   "metadata": {},
   "outputs": [
    {
     "name": "stdout",
     "output_type": "stream",
     "text": [
      "s\n"
     ]
    }
   ],
   "source": [
    "print(fruits[1][-1])"
   ]
  },
  {
   "cell_type": "markdown",
   "metadata": {},
   "source": [
    "### slicing\n",
    "- [start: end: [step]]\n",
    "- end is upto value in slice"
   ]
  },
  {
   "cell_type": "code",
   "execution_count": 14,
   "metadata": {},
   "outputs": [],
   "source": [
    "l1=[10,20,30,40,50]\n"
   ]
  },
  {
   "cell_type": "code",
   "execution_count": 15,
   "metadata": {},
   "outputs": [
    {
     "name": "stdout",
     "output_type": "stream",
     "text": [
      "[10, 20, 30, 40]\n"
     ]
    }
   ],
   "source": [
    "print(l1[0:4])"
   ]
  },
  {
   "cell_type": "code",
   "execution_count": 16,
   "metadata": {},
   "outputs": [
    {
     "name": "stdout",
     "output_type": "stream",
     "text": [
      "[30]\n"
     ]
    }
   ],
   "source": [
    "print(l1[2:3])"
   ]
  },
  {
   "cell_type": "code",
   "execution_count": 17,
   "metadata": {},
   "outputs": [
    {
     "name": "stdout",
     "output_type": "stream",
     "text": [
      "[10, 20, 30, 40, 50]\n"
     ]
    }
   ],
   "source": [
    "print(l1[0: ]) #can omit end parameter  means till end"
   ]
  },
  {
   "cell_type": "code",
   "execution_count": 18,
   "metadata": {},
   "outputs": [
    {
     "name": "stdout",
     "output_type": "stream",
     "text": [
      "[10, 20, 30]\n"
     ]
    }
   ],
   "source": [
    "print(l1[:3]) # can omit start parameter means it starts from begining"
   ]
  },
  {
   "cell_type": "code",
   "execution_count": 19,
   "metadata": {},
   "outputs": [
    {
     "name": "stdout",
     "output_type": "stream",
     "text": [
      "[10, 20, 30, 40, 50]\n",
      "[10, 20, 30, 40, 50]\n",
      "[10, 20, 30, 40, 50]\n"
     ]
    }
   ],
   "source": [
    " #full list\n",
    "print(l1[:]) \n",
    "print(l1[0:])\n",
    "print(l1[:5]) \n",
    " "
   ]
  },
  {
   "cell_type": "code",
   "execution_count": 20,
   "metadata": {},
   "outputs": [
    {
     "name": "stdout",
     "output_type": "stream",
     "text": [
      "[10, 30]\n"
     ]
    }
   ],
   "source": [
    "#step parameter\n",
    "print(lst[0:4:2])"
   ]
  },
  {
   "cell_type": "code",
   "execution_count": 21,
   "metadata": {},
   "outputs": [
    {
     "name": "stdout",
     "output_type": "stream",
     "text": [
      "[10, 30, 50]\n"
     ]
    }
   ],
   "source": [
    "print(lst[0:5:2])"
   ]
  },
  {
   "cell_type": "code",
   "execution_count": 22,
   "metadata": {},
   "outputs": [
    {
     "name": "stdout",
     "output_type": "stream",
     "text": [
      "[10, 40]\n"
     ]
    }
   ],
   "source": [
    "print(lst[0:4:3])"
   ]
  },
  {
   "cell_type": "code",
   "execution_count": 23,
   "metadata": {},
   "outputs": [
    {
     "name": "stdout",
     "output_type": "stream",
     "text": [
      "[10]\n"
     ]
    }
   ],
   "source": [
    "print(lst[0:4:4])"
   ]
  },
  {
   "cell_type": "code",
   "execution_count": 24,
   "metadata": {},
   "outputs": [
    {
     "name": "stdout",
     "output_type": "stream",
     "text": [
      "[10]\n"
     ]
    }
   ],
   "source": [
    "print(lst[0:4:5])  # higher step value"
   ]
  },
  {
   "cell_type": "code",
   "execution_count": 25,
   "metadata": {},
   "outputs": [
    {
     "name": "stdout",
     "output_type": "stream",
     "text": [
      "[10, 20, 30, 40]\n"
     ]
    }
   ],
   "source": [
    "#slicing using negative instruction\n",
    "lst= [10,20,30,40,50]\n",
    "print(lst[0:-1])"
   ]
  },
  {
   "cell_type": "code",
   "execution_count": 26,
   "metadata": {},
   "outputs": [
    {
     "name": "stdout",
     "output_type": "stream",
     "text": [
      "[20, 30, 40]\n"
     ]
    }
   ],
   "source": [
    "print(lst[-4:-1])"
   ]
  },
  {
   "cell_type": "code",
   "execution_count": 27,
   "metadata": {},
   "outputs": [
    {
     "name": "stdout",
     "output_type": "stream",
     "text": [
      "[20, 30, 40, 50]\n"
     ]
    }
   ],
   "source": [
    "print(lst[-4:])"
   ]
  },
  {
   "cell_type": "code",
   "execution_count": 28,
   "metadata": {},
   "outputs": [
    {
     "name": "stdout",
     "output_type": "stream",
     "text": [
      "[10, 20, 30, 40]\n"
     ]
    }
   ],
   "source": [
    "print(lst[:-1])"
   ]
  },
  {
   "cell_type": "code",
   "execution_count": 29,
   "metadata": {},
   "outputs": [
    {
     "name": "stdout",
     "output_type": "stream",
     "text": [
      "[]\n"
     ]
    }
   ],
   "source": [
    "print(lst[-1:-4])  #invalid"
   ]
  },
  {
   "cell_type": "code",
   "execution_count": 30,
   "metadata": {},
   "outputs": [
    {
     "name": "stdout",
     "output_type": "stream",
     "text": [
      "[50, 40, 30]\n"
     ]
    }
   ],
   "source": [
    "print(lst[-1:-4: -1]) #step parameter  with negative value reverses direction of traversal"
   ]
  },
  {
   "cell_type": "code",
   "execution_count": 31,
   "metadata": {},
   "outputs": [
    {
     "name": "stdout",
     "output_type": "stream",
     "text": [
      "[50, 40, 30, 20, 10]\n"
     ]
    }
   ],
   "source": [
    "print(lst[-1: : -1]) "
   ]
  },
  {
   "cell_type": "code",
   "execution_count": 32,
   "metadata": {},
   "outputs": [
    {
     "name": "stdout",
     "output_type": "stream",
     "text": [
      "[50, 40, 30]\n"
     ]
    }
   ],
   "source": [
    "print(lst[-1: 1: -1]) "
   ]
  },
  {
   "cell_type": "code",
   "execution_count": 33,
   "metadata": {},
   "outputs": [
    {
     "name": "stdout",
     "output_type": "stream",
     "text": [
      "[50, 40, 30, 20, 10]\n"
     ]
    }
   ],
   "source": [
    "#reverse a list\n",
    "print(lst[: : -1])"
   ]
  },
  {
   "cell_type": "code",
   "execution_count": 34,
   "metadata": {},
   "outputs": [
    {
     "name": "stdout",
     "output_type": "stream",
     "text": [
      "['papaya', 'grapes', 'guava']\n",
      "['papaya', 'grapes', 'guava', 'apple']\n",
      "['papaya']\n"
     ]
    }
   ],
   "source": [
    " \n",
    "fruits= ['papaya','grapes', 'guava', 'apple']\n",
    "print(fruits[:-1])\n",
    "print(fruits[::])\n",
    "print(fruits[:-3])\n"
   ]
  },
  {
   "cell_type": "markdown",
   "metadata": {},
   "source": [
    "## Mutable\n",
    "### List updation"
   ]
  },
  {
   "cell_type": "code",
   "execution_count": 35,
   "metadata": {},
   "outputs": [
    {
     "name": "stdout",
     "output_type": "stream",
     "text": [
      "[10, 20, 2000, 40]\n"
     ]
    }
   ],
   "source": [
    "# Lists are mutable\n",
    "\n",
    "l1=[10,20,30,40]\n",
    "l1[2]= 2000\n",
    "print(l1)"
   ]
  },
  {
   "cell_type": "code",
   "execution_count": 36,
   "metadata": {},
   "outputs": [
    {
     "name": "stdout",
     "output_type": "stream",
     "text": [
      "l1 is l2: False\n",
      "l1 is l3: True\n",
      "l2 is l3: True\n"
     ]
    }
   ],
   "source": [
    "#applying identity operators on mutable objects. Deep copy returns True\n",
    "l1=[1,2,3]\n",
    "l2=[1,2,3]\n",
    "l3=l1\n",
    "\n",
    "print('l1 is l2:', l1 is l2 )\n",
    "print('l1 is l3:',l1 is l3)\n",
    "print('l2 is l3:',l2 is l2)"
   ]
  },
  {
   "cell_type": "code",
   "execution_count": 37,
   "metadata": {},
   "outputs": [
    {
     "name": "stdout",
     "output_type": "stream",
     "text": [
      "[100, 200, 30, 40]\n"
     ]
    }
   ],
   "source": [
    "#slicing in list can be used for updating list values\n",
    "l1=[10,20,30,40]\n",
    "\n",
    "l1[0:2]=[100,200]\n",
    "print(l1)"
   ]
  },
  {
   "cell_type": "code",
   "execution_count": 38,
   "metadata": {},
   "outputs": [
    {
     "ename": "TypeError",
     "evalue": "can only assign an iterable",
     "output_type": "error",
     "traceback": [
      "\u001b[1;31m---------------------------------------------------------------------------\u001b[0m",
      "\u001b[1;31mTypeError\u001b[0m                                 Traceback (most recent call last)",
      "\u001b[1;32m<ipython-input-38-7fa57ba40d57>\u001b[0m in \u001b[0;36m<module>\u001b[1;34m\u001b[0m\n\u001b[0;32m      1\u001b[0m \u001b[0ml1\u001b[0m\u001b[1;33m=\u001b[0m\u001b[1;33m[\u001b[0m\u001b[1;36m10\u001b[0m\u001b[1;33m,\u001b[0m\u001b[1;36m20\u001b[0m\u001b[1;33m,\u001b[0m\u001b[1;36m30\u001b[0m\u001b[1;33m,\u001b[0m\u001b[1;36m40\u001b[0m\u001b[1;33m]\u001b[0m\u001b[1;33m\u001b[0m\u001b[1;33m\u001b[0m\u001b[0m\n\u001b[0;32m      2\u001b[0m \u001b[1;33m\u001b[0m\u001b[0m\n\u001b[1;32m----> 3\u001b[1;33m \u001b[0ml1\u001b[0m\u001b[1;33m[\u001b[0m\u001b[1;36m0\u001b[0m\u001b[1;33m:\u001b[0m\u001b[1;36m2\u001b[0m\u001b[1;33m]\u001b[0m\u001b[1;33m=\u001b[0m\u001b[1;36m100\u001b[0m  \u001b[1;31m#invalid - use []\u001b[0m\u001b[1;33m\u001b[0m\u001b[1;33m\u001b[0m\u001b[0m\n\u001b[0m\u001b[0;32m      4\u001b[0m \u001b[1;31m#l1[0:2]= [100]\u001b[0m\u001b[1;33m\u001b[0m\u001b[1;33m\u001b[0m\u001b[1;33m\u001b[0m\u001b[0m\n\u001b[0;32m      5\u001b[0m \u001b[0mprint\u001b[0m\u001b[1;33m(\u001b[0m\u001b[0ml1\u001b[0m\u001b[1;33m)\u001b[0m\u001b[1;33m\u001b[0m\u001b[1;33m\u001b[0m\u001b[0m\n",
      "\u001b[1;31mTypeError\u001b[0m: can only assign an iterable"
     ]
    }
   ],
   "source": [
    "l1=[10,20,30,40]\n",
    "\n",
    "l1[0:2]=100  #invalid - use []\n",
    "#l1[0:2]= [100]\n",
    "print(l1)"
   ]
  },
  {
   "cell_type": "code",
   "execution_count": 39,
   "metadata": {},
   "outputs": [
    {
     "name": "stdout",
     "output_type": "stream",
     "text": [
      "[1000, 2000, 50, 60, 70]\n"
     ]
    }
   ],
   "source": [
    "#size of list and items change. \n",
    "l1=[10,20,30,40,50,60,70]  #7 elements\n",
    "\n",
    "l1[0:4]=[1000,2000]  \n",
    " \n",
    "print(l1)  # 5 elements"
   ]
  },
  {
   "cell_type": "markdown",
   "metadata": {},
   "source": [
    "## Memebership"
   ]
  },
  {
   "cell_type": "code",
   "execution_count": 40,
   "metadata": {},
   "outputs": [
    {
     "name": "stdout",
     "output_type": "stream",
     "text": [
      "True\n",
      "False\n",
      "True\n"
     ]
    }
   ],
   "source": [
    "lst= ['queen', 'king', 'jack']\n",
    "print('queen' in lst)\n",
    "print('Queen' in lst)\n",
    "print('Ace' not in lst)"
   ]
  },
  {
   "cell_type": "markdown",
   "metadata": {},
   "source": [
    "## Iteration"
   ]
  },
  {
   "cell_type": "code",
   "execution_count": 41,
   "metadata": {},
   "outputs": [
    {
     "name": "stdout",
     "output_type": "stream",
     "text": [
      "queen\n",
      "king\n",
      "jack\n"
     ]
    }
   ],
   "source": [
    "lst= ['queen', 'king', 'jack']\n",
    "for card in lst:\n",
    "    print(card)"
   ]
  },
  {
   "cell_type": "code",
   "execution_count": 42,
   "metadata": {},
   "outputs": [
    {
     "name": "stdout",
     "output_type": "stream",
     "text": [
      "queen\n",
      "king\n",
      "jack\n"
     ]
    }
   ],
   "source": [
    "for ind in range(len(lst)):\n",
    "    print(lst[ind])"
   ]
  },
  {
   "cell_type": "code",
   "execution_count": 43,
   "metadata": {},
   "outputs": [
    {
     "name": "stdout",
     "output_type": "stream",
     "text": [
      "jack\n",
      "king\n",
      "queen\n"
     ]
    }
   ],
   "source": [
    "for card in lst[::-1]:   #reverse order\n",
    "    print(card)"
   ]
  },
  {
   "cell_type": "markdown",
   "metadata": {},
   "source": [
    "## Deep copy using assignment\n",
    "Copying and making changes in a list using assignment operator"
   ]
  },
  {
   "cell_type": "code",
   "execution_count": 44,
   "metadata": {},
   "outputs": [
    {
     "name": "stdout",
     "output_type": "stream",
     "text": [
      "[['z'], 'b', 'c']\n",
      "[['z'], 'b', 'c']\n"
     ]
    }
   ],
   "source": [
    "l1= ['a', 'b','c']\n",
    "l2 = l1\n",
    "l2[0]= ['z']\n",
    "print(l1)\n",
    "print(l2)  ## why?"
   ]
  },
  {
   "cell_type": "code",
   "execution_count": 45,
   "metadata": {},
   "outputs": [
    {
     "name": "stdout",
     "output_type": "stream",
     "text": [
      "['a', 'b', 'c']\n",
      "[['z'], 'b', 'c']\n"
     ]
    }
   ],
   "source": [
    "#overcome by shallow copy\n",
    "l1= ['a', 'b','c']\n",
    "l2 = l1[:]   # equivalent copy() method available\n",
    "l2[0]= ['z']\n",
    "print(l1)\n",
    "print(l2)   \n"
   ]
  },
  {
   "cell_type": "code",
   "execution_count": 46,
   "metadata": {},
   "outputs": [
    {
     "name": "stdout",
     "output_type": "stream",
     "text": [
      "False\n",
      "True\n",
      "l1 is empty\n",
      "l1 is empty\n"
     ]
    }
   ],
   "source": [
    "#check if list is empty list - 3 ways\n",
    "l=[]\n",
    "print(bool(l))\n",
    "l2=[1,2,3]\n",
    "print(bool(l2))\n",
    "# method 2\n",
    "if l== []:\n",
    "    print('l1 is empty')\n",
    "#method 3\n",
    "if len(l)== 0:\n",
    "    print('l1 is empty')"
   ]
  },
  {
   "cell_type": "markdown",
   "metadata": {},
   "source": [
    "### List functions\n",
    "- len(list)\n",
    "   Gives the total length of the list.\n",
    "- max(list)\n",
    "  Returns item from the list with max value.\n",
    "- min(list)\n",
    "  Returns item from the list with min value.\n",
    "- list(seq)\n",
    "  Converts a tuple, string into list.\n",
    "- Sum(list)\n",
    " \n",
    "\n"
   ]
  },
  {
   "cell_type": "code",
   "execution_count": 47,
   "metadata": {},
   "outputs": [
    {
     "data": {
      "text/plain": [
       "8"
      ]
     },
     "execution_count": 47,
     "metadata": {},
     "output_type": "execute_result"
    }
   ],
   "source": [
    "l= [2,4,6,8,90,200,1,2]\n",
    "len(l)"
   ]
  },
  {
   "cell_type": "code",
   "execution_count": 49,
   "metadata": {},
   "outputs": [
    {
     "name": "stdout",
     "output_type": "stream",
     "text": [
      "Min: 1\n"
     ]
    }
   ],
   "source": [
    "l= [2,4,6,8,90,200,1,2]\n",
    "print('Min:',min(l))"
   ]
  },
  {
   "cell_type": "code",
   "execution_count": 50,
   "metadata": {},
   "outputs": [
    {
     "name": "stdout",
     "output_type": "stream",
     "text": [
      "Max 200\n"
     ]
    }
   ],
   "source": [
    "l= [2,4,6,8,90,200,1,2]\n",
    "print('Max',max(l))"
   ]
  },
  {
   "cell_type": "code",
   "execution_count": 51,
   "metadata": {},
   "outputs": [
    {
     "name": "stdout",
     "output_type": "stream",
     "text": [
      "sum 313\n"
     ]
    }
   ],
   "source": [
    "l= [2,4,6,8,90,200,1,2]\n",
    "print('sum', sum(l))"
   ]
  },
  {
   "cell_type": "code",
   "execution_count": 54,
   "metadata": {},
   "outputs": [
    {
     "data": {
      "text/plain": [
       "['p', 'y', 't', 'h', 'o', 'n']"
      ]
     },
     "execution_count": 54,
     "metadata": {},
     "output_type": "execute_result"
    }
   ],
   "source": [
    "s='python'\n",
    "list(s)  # type conversion can convert other sequence types\n",
    "#list(123) 3 invalid"
   ]
  },
  {
   "cell_type": "code",
   "execution_count": null,
   "metadata": {},
   "outputs": [],
   "source": [
    "------------Next session -------------------------  List methods"
   ]
  }
 ],
 "metadata": {
  "kernelspec": {
   "display_name": "Python 3",
   "language": "python",
   "name": "python3"
  },
  "language_info": {
   "codemirror_mode": {
    "name": "ipython",
    "version": 3
   },
   "file_extension": ".py",
   "mimetype": "text/x-python",
   "name": "python",
   "nbconvert_exporter": "python",
   "pygments_lexer": "ipython3",
   "version": "3.8.3"
  }
 },
 "nbformat": 4,
 "nbformat_minor": 4
}
